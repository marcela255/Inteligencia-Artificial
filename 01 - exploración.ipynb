{
  "nbformat": 4,
  "nbformat_minor": 0,
  "metadata": {
    "colab": {
      "provenance": [],
      "authorship_tag": "ABX9TyPvrWPNc4V4WbrS+mBea+HZ",
      "include_colab_link": true
    },
    "kernelspec": {
      "name": "python3",
      "display_name": "Python 3"
    },
    "language_info": {
      "name": "python"
    }
  },
  "cells": [
    {
      "cell_type": "markdown",
      "metadata": {
        "id": "view-in-github",
        "colab_type": "text"
      },
      "source": [
        "<a href=\"https://colab.research.google.com/github/DanielLoaiza28/Inteligencia-Artificial/blob/main/01_exploraci%C3%B3n.ipynb\" target=\"_parent\"><img src=\"https://colab.research.google.com/assets/colab-badge.svg\" alt=\"Open In Colab\"/></a>"
      ]
    },
    {
      "cell_type": "code",
      "source": [
        "from google.colab import files\n",
        "files.upload()\n"
      ],
      "metadata": {
        "colab": {
          "base_uri": "https://localhost:8080/",
          "height": 90
        },
        "id": "8p5EABVFdwXF",
        "outputId": "db9bb6dc-3d5a-41b4-d0be-f729b2706b6d"
      },
      "execution_count": 2,
      "outputs": [
        {
          "output_type": "display_data",
          "data": {
            "text/plain": [
              "<IPython.core.display.HTML object>"
            ],
            "text/html": [
              "\n",
              "     <input type=\"file\" id=\"files-c42b0f1e-4f37-4df7-940a-9fe9ad5ad351\" name=\"files[]\" multiple disabled\n",
              "        style=\"border:none\" />\n",
              "     <output id=\"result-c42b0f1e-4f37-4df7-940a-9fe9ad5ad351\">\n",
              "      Upload widget is only available when the cell has been executed in the\n",
              "      current browser session. Please rerun this cell to enable.\n",
              "      </output>\n",
              "      <script>// Copyright 2017 Google LLC\n",
              "//\n",
              "// Licensed under the Apache License, Version 2.0 (the \"License\");\n",
              "// you may not use this file except in compliance with the License.\n",
              "// You may obtain a copy of the License at\n",
              "//\n",
              "//      http://www.apache.org/licenses/LICENSE-2.0\n",
              "//\n",
              "// Unless required by applicable law or agreed to in writing, software\n",
              "// distributed under the License is distributed on an \"AS IS\" BASIS,\n",
              "// WITHOUT WARRANTIES OR CONDITIONS OF ANY KIND, either express or implied.\n",
              "// See the License for the specific language governing permissions and\n",
              "// limitations under the License.\n",
              "\n",
              "/**\n",
              " * @fileoverview Helpers for google.colab Python module.\n",
              " */\n",
              "(function(scope) {\n",
              "function span(text, styleAttributes = {}) {\n",
              "  const element = document.createElement('span');\n",
              "  element.textContent = text;\n",
              "  for (const key of Object.keys(styleAttributes)) {\n",
              "    element.style[key] = styleAttributes[key];\n",
              "  }\n",
              "  return element;\n",
              "}\n",
              "\n",
              "// Max number of bytes which will be uploaded at a time.\n",
              "const MAX_PAYLOAD_SIZE = 100 * 1024;\n",
              "\n",
              "function _uploadFiles(inputId, outputId) {\n",
              "  const steps = uploadFilesStep(inputId, outputId);\n",
              "  const outputElement = document.getElementById(outputId);\n",
              "  // Cache steps on the outputElement to make it available for the next call\n",
              "  // to uploadFilesContinue from Python.\n",
              "  outputElement.steps = steps;\n",
              "\n",
              "  return _uploadFilesContinue(outputId);\n",
              "}\n",
              "\n",
              "// This is roughly an async generator (not supported in the browser yet),\n",
              "// where there are multiple asynchronous steps and the Python side is going\n",
              "// to poll for completion of each step.\n",
              "// This uses a Promise to block the python side on completion of each step,\n",
              "// then passes the result of the previous step as the input to the next step.\n",
              "function _uploadFilesContinue(outputId) {\n",
              "  const outputElement = document.getElementById(outputId);\n",
              "  const steps = outputElement.steps;\n",
              "\n",
              "  const next = steps.next(outputElement.lastPromiseValue);\n",
              "  return Promise.resolve(next.value.promise).then((value) => {\n",
              "    // Cache the last promise value to make it available to the next\n",
              "    // step of the generator.\n",
              "    outputElement.lastPromiseValue = value;\n",
              "    return next.value.response;\n",
              "  });\n",
              "}\n",
              "\n",
              "/**\n",
              " * Generator function which is called between each async step of the upload\n",
              " * process.\n",
              " * @param {string} inputId Element ID of the input file picker element.\n",
              " * @param {string} outputId Element ID of the output display.\n",
              " * @return {!Iterable<!Object>} Iterable of next steps.\n",
              " */\n",
              "function* uploadFilesStep(inputId, outputId) {\n",
              "  const inputElement = document.getElementById(inputId);\n",
              "  inputElement.disabled = false;\n",
              "\n",
              "  const outputElement = document.getElementById(outputId);\n",
              "  outputElement.innerHTML = '';\n",
              "\n",
              "  const pickedPromise = new Promise((resolve) => {\n",
              "    inputElement.addEventListener('change', (e) => {\n",
              "      resolve(e.target.files);\n",
              "    });\n",
              "  });\n",
              "\n",
              "  const cancel = document.createElement('button');\n",
              "  inputElement.parentElement.appendChild(cancel);\n",
              "  cancel.textContent = 'Cancel upload';\n",
              "  const cancelPromise = new Promise((resolve) => {\n",
              "    cancel.onclick = () => {\n",
              "      resolve(null);\n",
              "    };\n",
              "  });\n",
              "\n",
              "  // Wait for the user to pick the files.\n",
              "  const files = yield {\n",
              "    promise: Promise.race([pickedPromise, cancelPromise]),\n",
              "    response: {\n",
              "      action: 'starting',\n",
              "    }\n",
              "  };\n",
              "\n",
              "  cancel.remove();\n",
              "\n",
              "  // Disable the input element since further picks are not allowed.\n",
              "  inputElement.disabled = true;\n",
              "\n",
              "  if (!files) {\n",
              "    return {\n",
              "      response: {\n",
              "        action: 'complete',\n",
              "      }\n",
              "    };\n",
              "  }\n",
              "\n",
              "  for (const file of files) {\n",
              "    const li = document.createElement('li');\n",
              "    li.append(span(file.name, {fontWeight: 'bold'}));\n",
              "    li.append(span(\n",
              "        `(${file.type || 'n/a'}) - ${file.size} bytes, ` +\n",
              "        `last modified: ${\n",
              "            file.lastModifiedDate ? file.lastModifiedDate.toLocaleDateString() :\n",
              "                                    'n/a'} - `));\n",
              "    const percent = span('0% done');\n",
              "    li.appendChild(percent);\n",
              "\n",
              "    outputElement.appendChild(li);\n",
              "\n",
              "    const fileDataPromise = new Promise((resolve) => {\n",
              "      const reader = new FileReader();\n",
              "      reader.onload = (e) => {\n",
              "        resolve(e.target.result);\n",
              "      };\n",
              "      reader.readAsArrayBuffer(file);\n",
              "    });\n",
              "    // Wait for the data to be ready.\n",
              "    let fileData = yield {\n",
              "      promise: fileDataPromise,\n",
              "      response: {\n",
              "        action: 'continue',\n",
              "      }\n",
              "    };\n",
              "\n",
              "    // Use a chunked sending to avoid message size limits. See b/62115660.\n",
              "    let position = 0;\n",
              "    do {\n",
              "      const length = Math.min(fileData.byteLength - position, MAX_PAYLOAD_SIZE);\n",
              "      const chunk = new Uint8Array(fileData, position, length);\n",
              "      position += length;\n",
              "\n",
              "      const base64 = btoa(String.fromCharCode.apply(null, chunk));\n",
              "      yield {\n",
              "        response: {\n",
              "          action: 'append',\n",
              "          file: file.name,\n",
              "          data: base64,\n",
              "        },\n",
              "      };\n",
              "\n",
              "      let percentDone = fileData.byteLength === 0 ?\n",
              "          100 :\n",
              "          Math.round((position / fileData.byteLength) * 100);\n",
              "      percent.textContent = `${percentDone}% done`;\n",
              "\n",
              "    } while (position < fileData.byteLength);\n",
              "  }\n",
              "\n",
              "  // All done.\n",
              "  yield {\n",
              "    response: {\n",
              "      action: 'complete',\n",
              "    }\n",
              "  };\n",
              "}\n",
              "\n",
              "scope.google = scope.google || {};\n",
              "scope.google.colab = scope.google.colab || {};\n",
              "scope.google.colab._files = {\n",
              "  _uploadFiles,\n",
              "  _uploadFilesContinue,\n",
              "};\n",
              "})(self);\n",
              "</script> "
            ]
          },
          "metadata": {}
        },
        {
          "output_type": "stream",
          "name": "stdout",
          "text": [
            "Saving kaggle.json to kaggle.json\n"
          ]
        },
        {
          "output_type": "execute_result",
          "data": {
            "text/plain": [
              "{'kaggle.json': b'{\"username\":\"danielloaizacarmona\",\"key\":\"cf9d9029f8c19118e9f0c7abab4bac38\"}'}"
            ]
          },
          "metadata": {},
          "execution_count": 2
        }
      ]
    },
    {
      "cell_type": "code",
      "source": [
        "import os\n",
        "import zipfile\n",
        "\n",
        "!mkdir -p ~/.kaggle\n",
        "!mv kaggle.json ~/.kaggle/\n",
        "!chmod 600 ~/.kaggle/kaggle.json\n"
      ],
      "metadata": {
        "id": "lYAN3o-UeUPF"
      },
      "execution_count": 3,
      "outputs": []
    },
    {
      "cell_type": "code",
      "source": [
        "!kaggle competitions download -c udea-ai-4-eng-20251-pruebas-saber-pro-colombia\n"
      ],
      "metadata": {
        "id": "Nx7fEcGhemNJ"
      },
      "execution_count": 4,
      "outputs": []
    },
    {
      "cell_type": "code",
      "source": [
        "with zipfile.ZipFile(\"udea-ai-4-eng-20251-pruebas-saber-pro-colombia.zip\", \"r\") as zip_ref:\n",
        "    zip_ref.extractall(\"datos\")\n"
      ],
      "metadata": {
        "id": "R8egtTXXena1"
      },
      "execution_count": 5,
      "outputs": []
    },
    {
      "cell_type": "code",
      "execution_count": 8,
      "metadata": {
        "colab": {
          "base_uri": "https://localhost:8080/"
        },
        "collapsed": true,
        "id": "uA0vRFn0de-D",
        "outputId": "ec206ddb-789e-4a38-a0f1-9b3cda8427a4"
      },
      "outputs": [
        {
          "output_type": "stream",
          "name": "stdout",
          "text": [
            "Primeras filas del DataFrame:\n",
            "       ID  PERIODO         ESTU_PRGM_ACADEMICO ESTU_PRGM_DEPARTAMENTO  \\\n",
            "0  904256    20212                  ENFERMERIA                 BOGOTÁ   \n",
            "1  645256    20212                     DERECHO              ATLANTICO   \n",
            "2  308367    20203       MERCADEO Y PUBLICIDAD                 BOGOTÁ   \n",
            "3  470353    20195  ADMINISTRACION DE EMPRESAS              SANTANDER   \n",
            "4  989032    20212                  PSICOLOGIA              ANTIOQUIA   \n",
            "\n",
            "             ESTU_VALORMATRICULAUNIVERSIDAD ESTU_HORASSEMANATRABAJA  \\\n",
            "0  Entre 5.5 millones y menos de 7 millones       Menos de 10 horas   \n",
            "1  Entre 2.5 millones y menos de 4 millones                       0   \n",
            "2  Entre 2.5 millones y menos de 4 millones         Más de 30 horas   \n",
            "3  Entre 4 millones y menos de 5.5 millones                       0   \n",
            "4  Entre 2.5 millones y menos de 4 millones     Entre 21 y 30 horas   \n",
            "\n",
            "  FAMI_ESTRATOVIVIENDA FAMI_TIENEINTERNET                 FAMI_EDUCACIONPADRE  \\\n",
            "0            Estrato 3                 Si    Técnica o tecnológica incompleta   \n",
            "1            Estrato 3                 No      Técnica o tecnológica completa   \n",
            "2            Estrato 3                 Si  Secundaria (Bachillerato) completa   \n",
            "3            Estrato 4                 Si                             No sabe   \n",
            "4            Estrato 3                 Si                   Primaria completa   \n",
            "\n",
            "  FAMI_TIENELAVADORA  ... ESTU_PRIVADO_LIBERTAD ESTU_PAGOMATRICULAPROPIO  \\\n",
            "0                 Si  ...                     N                       No   \n",
            "1                 Si  ...                     N                       No   \n",
            "2                 Si  ...                     N                       No   \n",
            "3                 Si  ...                     N                       No   \n",
            "4                 Si  ...                     N                       No   \n",
            "\n",
            "  FAMI_TIENECOMPUTADOR FAMI_TIENEINTERNET.1  \\\n",
            "0                   Si                   Si   \n",
            "1                   Si                   No   \n",
            "2                   No                   Si   \n",
            "3                   Si                   Si   \n",
            "4                   Si                   Si   \n",
            "\n",
            "                  FAMI_EDUCACIONMADRE RENDIMIENTO_GLOBAL coef_1  coef_2  \\\n",
            "0                           Postgrado         medio-alto  0.322   0.208   \n",
            "1    Técnica o tecnológica incompleta               bajo  0.311   0.215   \n",
            "2  Secundaria (Bachillerato) completa               bajo  0.297   0.214   \n",
            "3  Secundaria (Bachillerato) completa               alto  0.485   0.172   \n",
            "4                   Primaria completa         medio-bajo  0.316   0.232   \n",
            "\n",
            "   coef_3  coef_4  \n",
            "0   0.310   0.267  \n",
            "1   0.292   0.264  \n",
            "2   0.305   0.264  \n",
            "3   0.252   0.190  \n",
            "4   0.285   0.294  \n",
            "\n",
            "[5 rows x 21 columns]\n"
          ]
        }
      ],
      "source": [
        "import pandas as pd\n",
        "\n",
        "\n",
        "data = pd.read_csv(\"datos/train.csv\")\n",
        "\n",
        "\n",
        "print(\"Primeras filas del DataFrame:\")\n",
        "print(data.head())\n"
      ]
    },
    {
      "cell_type": "code",
      "source": [
        "print(\"Primeras filas del DataFrame:\")\n",
        "print(data.head())"
      ],
      "metadata": {
        "colab": {
          "base_uri": "https://localhost:8080/"
        },
        "id": "dHI4UO7yjWPI",
        "outputId": "8bc8e17d-dbda-4580-abfb-d89a1bb65aee"
      },
      "execution_count": 9,
      "outputs": [
        {
          "output_type": "stream",
          "name": "stdout",
          "text": [
            "Primeras filas del DataFrame:\n",
            "       ID  PERIODO         ESTU_PRGM_ACADEMICO ESTU_PRGM_DEPARTAMENTO  \\\n",
            "0  904256    20212                  ENFERMERIA                 BOGOTÁ   \n",
            "1  645256    20212                     DERECHO              ATLANTICO   \n",
            "2  308367    20203       MERCADEO Y PUBLICIDAD                 BOGOTÁ   \n",
            "3  470353    20195  ADMINISTRACION DE EMPRESAS              SANTANDER   \n",
            "4  989032    20212                  PSICOLOGIA              ANTIOQUIA   \n",
            "\n",
            "             ESTU_VALORMATRICULAUNIVERSIDAD ESTU_HORASSEMANATRABAJA  \\\n",
            "0  Entre 5.5 millones y menos de 7 millones       Menos de 10 horas   \n",
            "1  Entre 2.5 millones y menos de 4 millones                       0   \n",
            "2  Entre 2.5 millones y menos de 4 millones         Más de 30 horas   \n",
            "3  Entre 4 millones y menos de 5.5 millones                       0   \n",
            "4  Entre 2.5 millones y menos de 4 millones     Entre 21 y 30 horas   \n",
            "\n",
            "  FAMI_ESTRATOVIVIENDA FAMI_TIENEINTERNET                 FAMI_EDUCACIONPADRE  \\\n",
            "0            Estrato 3                 Si    Técnica o tecnológica incompleta   \n",
            "1            Estrato 3                 No      Técnica o tecnológica completa   \n",
            "2            Estrato 3                 Si  Secundaria (Bachillerato) completa   \n",
            "3            Estrato 4                 Si                             No sabe   \n",
            "4            Estrato 3                 Si                   Primaria completa   \n",
            "\n",
            "  FAMI_TIENELAVADORA  ... ESTU_PRIVADO_LIBERTAD ESTU_PAGOMATRICULAPROPIO  \\\n",
            "0                 Si  ...                     N                       No   \n",
            "1                 Si  ...                     N                       No   \n",
            "2                 Si  ...                     N                       No   \n",
            "3                 Si  ...                     N                       No   \n",
            "4                 Si  ...                     N                       No   \n",
            "\n",
            "  FAMI_TIENECOMPUTADOR FAMI_TIENEINTERNET.1  \\\n",
            "0                   Si                   Si   \n",
            "1                   Si                   No   \n",
            "2                   No                   Si   \n",
            "3                   Si                   Si   \n",
            "4                   Si                   Si   \n",
            "\n",
            "                  FAMI_EDUCACIONMADRE RENDIMIENTO_GLOBAL coef_1  coef_2  \\\n",
            "0                           Postgrado         medio-alto  0.322   0.208   \n",
            "1    Técnica o tecnológica incompleta               bajo  0.311   0.215   \n",
            "2  Secundaria (Bachillerato) completa               bajo  0.297   0.214   \n",
            "3  Secundaria (Bachillerato) completa               alto  0.485   0.172   \n",
            "4                   Primaria completa         medio-bajo  0.316   0.232   \n",
            "\n",
            "   coef_3  coef_4  \n",
            "0   0.310   0.267  \n",
            "1   0.292   0.264  \n",
            "2   0.305   0.264  \n",
            "3   0.252   0.190  \n",
            "4   0.285   0.294  \n",
            "\n",
            "[5 rows x 21 columns]\n"
          ]
        }
      ]
    },
    {
      "cell_type": "code",
      "source": [
        "print(\"\\nInformación sobre las columnas:\")\n",
        "print(data.info())\n"
      ],
      "metadata": {
        "colab": {
          "base_uri": "https://localhost:8080/"
        },
        "id": "R8Ng9_F6jrvH",
        "outputId": "41c43caa-5864-4578-c3d4-27f817bd8ef9"
      },
      "execution_count": 10,
      "outputs": [
        {
          "output_type": "stream",
          "name": "stdout",
          "text": [
            "\n",
            "Información sobre las columnas:\n",
            "<class 'pandas.core.frame.DataFrame'>\n",
            "RangeIndex: 692500 entries, 0 to 692499\n",
            "Data columns (total 21 columns):\n",
            " #   Column                          Non-Null Count   Dtype  \n",
            "---  ------                          --------------   -----  \n",
            " 0   ID                              692500 non-null  int64  \n",
            " 1   PERIODO                         692500 non-null  int64  \n",
            " 2   ESTU_PRGM_ACADEMICO             692500 non-null  object \n",
            " 3   ESTU_PRGM_DEPARTAMENTO          692500 non-null  object \n",
            " 4   ESTU_VALORMATRICULAUNIVERSIDAD  686213 non-null  object \n",
            " 5   ESTU_HORASSEMANATRABAJA         661643 non-null  object \n",
            " 6   FAMI_ESTRATOVIVIENDA            660363 non-null  object \n",
            " 7   FAMI_TIENEINTERNET              665871 non-null  object \n",
            " 8   FAMI_EDUCACIONPADRE             669322 non-null  object \n",
            " 9   FAMI_TIENELAVADORA              652727 non-null  object \n",
            " 10  FAMI_TIENEAUTOMOVIL             648877 non-null  object \n",
            " 11  ESTU_PRIVADO_LIBERTAD           692500 non-null  object \n",
            " 12  ESTU_PAGOMATRICULAPROPIO        686002 non-null  object \n",
            " 13  FAMI_TIENECOMPUTADOR            654397 non-null  object \n",
            " 14  FAMI_TIENEINTERNET.1            665871 non-null  object \n",
            " 15  FAMI_EDUCACIONMADRE             668836 non-null  object \n",
            " 16  RENDIMIENTO_GLOBAL              692500 non-null  object \n",
            " 17  coef_1                          692500 non-null  float64\n",
            " 18  coef_2                          692500 non-null  float64\n",
            " 19  coef_3                          692500 non-null  float64\n",
            " 20  coef_4                          692500 non-null  float64\n",
            "dtypes: float64(4), int64(2), object(15)\n",
            "memory usage: 111.0+ MB\n",
            "None\n"
          ]
        }
      ]
    },
    {
      "cell_type": "code",
      "source": [
        "print(\"\\nDescripción estadística de los datos numéricos:\")\n",
        "print(data.describe())\n"
      ],
      "metadata": {
        "colab": {
          "base_uri": "https://localhost:8080/"
        },
        "id": "wTmBtxwekAR2",
        "outputId": "2a063f61-ae7a-4393-a1db-9f3123206383"
      },
      "execution_count": 11,
      "outputs": [
        {
          "output_type": "stream",
          "name": "stdout",
          "text": [
            "\n",
            "Descripción estadística de los datos numéricos:\n",
            "                  ID        PERIODO         coef_1         coef_2  \\\n",
            "count  692500.000000  692500.000000  692500.000000  692500.000000   \n",
            "mean   494606.130576   20198.366679       0.268629       0.259996   \n",
            "std    285585.209455      10.535037       0.122130       0.093480   \n",
            "min         1.000000   20183.000000       0.000000       0.000000   \n",
            "25%    247324.750000   20195.000000       0.203000       0.212000   \n",
            "50%    494564.500000   20195.000000       0.240000       0.271000   \n",
            "75%    741782.500000   20203.000000       0.314000       0.309000   \n",
            "max    989286.000000   20213.000000       0.657000       0.487000   \n",
            "\n",
            "              coef_3         coef_4  \n",
            "count  692500.000000  692500.000000  \n",
            "mean        0.262087       0.262903  \n",
            "std         0.058862       0.067944  \n",
            "min         0.000000       0.000000  \n",
            "25%         0.254000       0.255000  \n",
            "50%         0.276000       0.285000  \n",
            "75%         0.293000       0.303000  \n",
            "max         0.320000       0.332000  \n"
          ]
        }
      ]
    },
    {
      "cell_type": "code",
      "source": [
        "num_rows, num_cols = data.shape\n",
        "print(\"\\nNúmero de filas:\", num_rows)\n",
        "print(\"Número de columnas:\", num_cols)\n"
      ],
      "metadata": {
        "colab": {
          "base_uri": "https://localhost:8080/"
        },
        "id": "GN_yUfsZkINY",
        "outputId": "a455759e-ee26-4407-85a7-6d85385913bc"
      },
      "execution_count": 12,
      "outputs": [
        {
          "output_type": "stream",
          "name": "stdout",
          "text": [
            "\n",
            "Número de filas: 692500\n",
            "Número de columnas: 21\n"
          ]
        }
      ]
    },
    {
      "cell_type": "code",
      "source": [
        "if 'FAMI_ESTRATOVIVIENDA' in data.columns:\n",
        "\n",
        "\n",
        "    conteo_estratos = data['FAMI_ESTRATOVIVIENDA'].value_counts()\n",
        "    print(\"\\nNúmero de estudiantes en cada estrato de vivienda:\")\n",
        "    print(conteo_estratos)\n",
        "else:\n",
        "    print(\"\\nLa columna 'FAMI_ESTRATOVIVIENDA' no está presente en el DataFrame.\")\n",
        ""
      ],
      "metadata": {
        "colab": {
          "base_uri": "https://localhost:8080/"
        },
        "id": "rU6eBzpgkQZd",
        "outputId": "618d9c7b-59c2-4071-a6cb-12935be1a006"
      },
      "execution_count": 13,
      "outputs": [
        {
          "output_type": "stream",
          "name": "stdout",
          "text": [
            "\n",
            "Número de estudiantes en cada estrato de vivienda:\n",
            "FAMI_ESTRATOVIVIENDA\n",
            "Estrato 2      232671\n",
            "Estrato 3      210685\n",
            "Estrato 1      111991\n",
            "Estrato 4       65514\n",
            "Estrato 5       23608\n",
            "Estrato 6       12605\n",
            "Sin Estrato      3289\n",
            "Name: count, dtype: int64\n"
          ]
        }
      ]
    }
  ]
}
